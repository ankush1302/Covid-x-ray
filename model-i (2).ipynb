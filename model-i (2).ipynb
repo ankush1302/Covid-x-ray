{
 "cells": [
  {
   "cell_type": "code",
   "execution_count": 1,
   "id": "09a5c414",
   "metadata": {
    "execution": {
     "iopub.execute_input": "2022-04-20T18:25:07.242949Z",
     "iopub.status.busy": "2022-04-20T18:25:07.241446Z",
     "iopub.status.idle": "2022-04-20T18:25:24.504334Z",
     "shell.execute_reply": "2022-04-20T18:25:24.504961Z",
     "shell.execute_reply.started": "2022-04-20T18:19:14.343811Z"
    },
    "papermill": {
     "duration": 17.277114,
     "end_time": "2022-04-20T18:25:24.505233",
     "exception": false,
     "start_time": "2022-04-20T18:25:07.228119",
     "status": "completed"
    },
    "tags": []
   },
   "outputs": [
    {
     "name": "stdout",
     "output_type": "stream",
     "text": [
      "['Prediction', 'Val', 'Train']\n",
      "Collecting imutils\r\n",
      "  Downloading imutils-0.5.4.tar.gz (17 kB)\r\n",
      "  Preparing metadata (setup.py) ... \u001b[?25l-\b \bdone\r\n",
      "\u001b[?25hBuilding wheels for collected packages: imutils\r\n",
      "  Building wheel for imutils (setup.py) ... \u001b[?25l-\b \b\\\b \bdone\r\n",
      "\u001b[?25h  Created wheel for imutils: filename=imutils-0.5.4-py3-none-any.whl size=25860 sha256=8dc8cd49a674306991e8e9b725855ddd6e745f5104769a1d71aa4950cfdbd705\r\n",
      "  Stored in directory: /root/.cache/pip/wheels/86/d7/0a/4923351ed1cec5d5e24c1eaf8905567b02a0343b24aa873df2\r\n",
      "Successfully built imutils\r\n",
      "Installing collected packages: imutils\r\n",
      "Successfully installed imutils-0.5.4\r\n",
      "\u001b[33mWARNING: Running pip as the 'root' user can result in broken permissions and conflicting behaviour with the system package manager. It is recommended to use a virtual environment instead: https://pip.pypa.io/warnings/venv\u001b[0m\r\n"
     ]
    }
   ],
   "source": [
    "import pandas as pd\n",
    "import os\n",
    "import shutil\n",
    "print(os.listdir(\"../input/chest-xray-for-covid19-detection/Dataset\"))\n",
    "import cv2\n",
    "import matplotlib.pyplot as plt\n",
    "import warnings\n",
    "warnings.filterwarnings('ignore')\n",
    "import tensorflow as tf\n",
    "! pip install imutils \n",
    "from imutils import paths\n",
    "import os\n",
    "from sklearn.model_selection import train_test_split\n",
    "import shutil\n",
    "from tensorflow.keras.preprocessing.image import ImageDataGenerator\n",
    "from tensorflow.keras.models import Model\n",
    "from tensorflow.keras.optimizers import Adam\n",
    "import numpy as np\n",
    "import matplotlib.pyplot as plt\n",
    "import keras\n",
    "from keras.layers import *\n",
    "from keras.models import *\n",
    "from keras.preprocessing import image"
   ]
  },
  {
   "cell_type": "code",
   "execution_count": 2,
   "id": "15422d92",
   "metadata": {
    "execution": {
     "iopub.execute_input": "2022-04-20T18:25:24.534675Z",
     "iopub.status.busy": "2022-04-20T18:25:24.534119Z",
     "iopub.status.idle": "2022-04-20T18:25:24.537567Z",
     "shell.execute_reply": "2022-04-20T18:25:24.537165Z",
     "shell.execute_reply.started": "2022-04-20T18:19:41.119667Z"
    },
    "papermill": {
     "duration": 0.018436,
     "end_time": "2022-04-20T18:25:24.537700",
     "exception": false,
     "start_time": "2022-04-20T18:25:24.519264",
     "status": "completed"
    },
    "tags": []
   },
   "outputs": [],
   "source": [
    "TRAIN_PATH = \"../input/chest-xray-for-covid19-detection/Dataset/Train\"\n",
    "VAL_PATH = \"../input/chest-xray-for-covid19-detection/Dataset/Val\""
   ]
  },
  {
   "cell_type": "code",
   "execution_count": 3,
   "id": "6963a003",
   "metadata": {
    "execution": {
     "iopub.execute_input": "2022-04-20T18:25:24.565310Z",
     "iopub.status.busy": "2022-04-20T18:25:24.564468Z",
     "iopub.status.idle": "2022-04-20T18:25:24.566491Z",
     "shell.execute_reply": "2022-04-20T18:25:24.566896Z",
     "shell.execute_reply.started": "2022-04-20T18:19:42.104936Z"
    },
    "papermill": {
     "duration": 0.018024,
     "end_time": "2022-04-20T18:25:24.567017",
     "exception": false,
     "start_time": "2022-04-20T18:25:24.548993",
     "status": "completed"
    },
    "tags": []
   },
   "outputs": [],
   "source": [
    "train_datagen = image.ImageDataGenerator(\n",
    "    rescale = 1./255,\n",
    "    shear_range = 0.2,\n",
    "    zoom_range = 0.2,\n",
    "    horizontal_flip = True,\n",
    ")\n",
    "test_dataset = image.ImageDataGenerator(rescale = 1./255)"
   ]
  },
  {
   "cell_type": "code",
   "execution_count": 4,
   "id": "42402390",
   "metadata": {
    "execution": {
     "iopub.execute_input": "2022-04-20T18:25:24.594101Z",
     "iopub.status.busy": "2022-04-20T18:25:24.593400Z",
     "iopub.status.idle": "2022-04-20T18:25:24.805881Z",
     "shell.execute_reply": "2022-04-20T18:25:24.805224Z",
     "shell.execute_reply.started": "2022-04-20T18:19:45.324622Z"
    },
    "papermill": {
     "duration": 0.227794,
     "end_time": "2022-04-20T18:25:24.806026",
     "exception": false,
     "start_time": "2022-04-20T18:25:24.578232",
     "status": "completed"
    },
    "tags": []
   },
   "outputs": [
    {
     "name": "stdout",
     "output_type": "stream",
     "text": [
      "Found 288 images belonging to 2 classes.\n",
      "Found 60 images belonging to 2 classes.\n"
     ]
    }
   ],
   "source": [
    "train_generator = train_datagen.flow_from_directory(\n",
    "    '../input/chest-xray-for-covid19-detection/Dataset/Train',\n",
    "    target_size = (224,224),\n",
    "    class_mode = 'binary'\n",
    ")\n",
    "\n",
    "validation_generator = test_dataset.flow_from_directory(\n",
    "    '../input/chest-xray-for-covid19-detection/Dataset/Val',\n",
    "    target_size = (224,224),\n",
    "    batch_size = 32,\n",
    "    class_mode = 'binary'\n",
    ")"
   ]
  },
  {
   "cell_type": "code",
   "execution_count": 5,
   "id": "22dc3a03",
   "metadata": {
    "execution": {
     "iopub.execute_input": "2022-04-20T18:25:24.837094Z",
     "iopub.status.busy": "2022-04-20T18:25:24.836488Z",
     "iopub.status.idle": "2022-04-20T18:25:24.839483Z",
     "shell.execute_reply": "2022-04-20T18:25:24.839890Z",
     "shell.execute_reply.started": "2022-04-20T18:19:48.827114Z"
    },
    "papermill": {
     "duration": 0.021315,
     "end_time": "2022-04-20T18:25:24.840004",
     "exception": false,
     "start_time": "2022-04-20T18:25:24.818689",
     "status": "completed"
    },
    "tags": []
   },
   "outputs": [
    {
     "data": {
      "text/plain": [
       "{'Covid': 0, 'Normal': 1}"
      ]
     },
     "execution_count": 5,
     "metadata": {},
     "output_type": "execute_result"
    }
   ],
   "source": [
    "train_generator.class_indices"
   ]
  },
  {
   "cell_type": "code",
   "execution_count": 6,
   "id": "c730e925",
   "metadata": {
    "execution": {
     "iopub.execute_input": "2022-04-20T18:25:24.866844Z",
     "iopub.status.busy": "2022-04-20T18:25:24.866060Z",
     "iopub.status.idle": "2022-04-20T18:25:27.312917Z",
     "shell.execute_reply": "2022-04-20T18:25:27.312455Z",
     "shell.execute_reply.started": "2022-04-20T18:20:28.040255Z"
    },
    "papermill": {
     "duration": 2.461147,
     "end_time": "2022-04-20T18:25:27.313045",
     "exception": false,
     "start_time": "2022-04-20T18:25:24.851898",
     "status": "completed"
    },
    "tags": []
   },
   "outputs": [
    {
     "name": "stderr",
     "output_type": "stream",
     "text": [
      "2022-04-20 18:25:24.958837: I tensorflow/stream_executor/cuda/cuda_gpu_executor.cc:937] successful NUMA node read from SysFS had negative value (-1), but there must be at least one NUMA node, so returning NUMA node zero\n",
      "2022-04-20 18:25:25.047203: I tensorflow/stream_executor/cuda/cuda_gpu_executor.cc:937] successful NUMA node read from SysFS had negative value (-1), but there must be at least one NUMA node, so returning NUMA node zero\n",
      "2022-04-20 18:25:25.048014: I tensorflow/stream_executor/cuda/cuda_gpu_executor.cc:937] successful NUMA node read from SysFS had negative value (-1), but there must be at least one NUMA node, so returning NUMA node zero\n",
      "2022-04-20 18:25:25.049439: I tensorflow/core/platform/cpu_feature_guard.cc:142] This TensorFlow binary is optimized with oneAPI Deep Neural Network Library (oneDNN) to use the following CPU instructions in performance-critical operations:  AVX2 AVX512F FMA\n",
      "To enable them in other operations, rebuild TensorFlow with the appropriate compiler flags.\n",
      "2022-04-20 18:25:25.050566: I tensorflow/stream_executor/cuda/cuda_gpu_executor.cc:937] successful NUMA node read from SysFS had negative value (-1), but there must be at least one NUMA node, so returning NUMA node zero\n",
      "2022-04-20 18:25:25.051265: I tensorflow/stream_executor/cuda/cuda_gpu_executor.cc:937] successful NUMA node read from SysFS had negative value (-1), but there must be at least one NUMA node, so returning NUMA node zero\n",
      "2022-04-20 18:25:25.051909: I tensorflow/stream_executor/cuda/cuda_gpu_executor.cc:937] successful NUMA node read from SysFS had negative value (-1), but there must be at least one NUMA node, so returning NUMA node zero\n",
      "2022-04-20 18:25:26.868788: I tensorflow/stream_executor/cuda/cuda_gpu_executor.cc:937] successful NUMA node read from SysFS had negative value (-1), but there must be at least one NUMA node, so returning NUMA node zero\n",
      "2022-04-20 18:25:26.869710: I tensorflow/stream_executor/cuda/cuda_gpu_executor.cc:937] successful NUMA node read from SysFS had negative value (-1), but there must be at least one NUMA node, so returning NUMA node zero\n",
      "2022-04-20 18:25:26.870410: I tensorflow/stream_executor/cuda/cuda_gpu_executor.cc:937] successful NUMA node read from SysFS had negative value (-1), but there must be at least one NUMA node, so returning NUMA node zero\n",
      "2022-04-20 18:25:26.871045: I tensorflow/core/common_runtime/gpu/gpu_device.cc:1510] Created device /job:localhost/replica:0/task:0/device:GPU:0 with 15403 MB memory:  -> device: 0, name: Tesla P100-PCIE-16GB, pci bus id: 0000:00:04.0, compute capability: 6.0\n"
     ]
    }
   ],
   "source": [
    "model = Sequential()\n",
    "model.add(Conv2D(32,kernel_size=(3,3),activation=\"relu\",input_shape=(224,224,3)))\n",
    "\n",
    "model.add(Conv2D(64,(3,3),activation=\"relu\"))\n",
    "model.add(MaxPooling2D(pool_size = (2,2)))\n",
    "model.add(Dropout(0.25))\n",
    "\n",
    "model.add(Conv2D(64,(3,3),activation=\"relu\"))\n",
    "model.add(MaxPooling2D(pool_size=(2,2)))\n",
    "model.add(Dropout(0.25))\n",
    "\n",
    "model.add(Conv2D(128,(3,3),activation=\"relu\"))\n",
    "model.add(MaxPooling2D(pool_size=(2,2)))\n",
    "model.add(Dropout(0.25))\n",
    "\n",
    "model.add(Conv2D(128,(3,3),activation=\"relu\"))\n",
    "model.add(MaxPooling2D(pool_size=(2,2)))\n",
    "model.add(Dropout(0.25))\n",
    "\n",
    "model.add(Flatten())\n",
    "model.add(Dense(64,activation=\"relu\"))\n",
    "model.add(Dropout(0.5))\n",
    "\n",
    "model.add(Dense(1,activation=\"sigmoid\"))\n",
    "\n",
    "model.compile(loss=keras.losses.binary_crossentropy,optimizer = \"adam\",metrics=[\"accuracy\"]);"
   ]
  },
  {
   "cell_type": "code",
   "execution_count": 7,
   "id": "a0f9139f",
   "metadata": {
    "execution": {
     "iopub.execute_input": "2022-04-20T18:25:27.342998Z",
     "iopub.status.busy": "2022-04-20T18:25:27.342111Z",
     "iopub.status.idle": "2022-04-20T18:28:07.564371Z",
     "shell.execute_reply": "2022-04-20T18:28:07.563894Z",
     "shell.execute_reply.started": "2022-04-20T18:20:30.553879Z"
    },
    "papermill": {
     "duration": 160.238651,
     "end_time": "2022-04-20T18:28:07.564502",
     "exception": false,
     "start_time": "2022-04-20T18:25:27.325851",
     "status": "completed"
    },
    "tags": []
   },
   "outputs": [
    {
     "name": "stderr",
     "output_type": "stream",
     "text": [
      "2022-04-20 18:25:29.099462: I tensorflow/compiler/mlir/mlir_graph_optimization_pass.cc:185] None of the MLIR Optimization Passes are enabled (registered 2)\n"
     ]
    },
    {
     "name": "stdout",
     "output_type": "stream",
     "text": [
      "Epoch 1/10\n"
     ]
    },
    {
     "name": "stderr",
     "output_type": "stream",
     "text": [
      "2022-04-20 18:25:32.013085: I tensorflow/stream_executor/cuda/cuda_dnn.cc:369] Loaded cuDNN version 8005\n"
     ]
    },
    {
     "name": "stdout",
     "output_type": "stream",
     "text": [
      "8/8 [==============================] - 21s 2s/step - loss: 0.6483 - accuracy: 0.6523 - val_loss: 0.5895 - val_accuracy: 0.9833\n",
      "Epoch 2/10\n",
      "8/8 [==============================] - 11s 1s/step - loss: 0.3350 - accuracy: 0.8516 - val_loss: 0.3267 - val_accuracy: 0.9167\n",
      "Epoch 3/10\n",
      "8/8 [==============================] - 11s 1s/step - loss: 0.3232 - accuracy: 0.8750 - val_loss: 0.3541 - val_accuracy: 0.9167\n",
      "Epoch 4/10\n",
      "8/8 [==============================] - 11s 1s/step - loss: 0.2629 - accuracy: 0.9219 - val_loss: 0.2086 - val_accuracy: 0.9667\n",
      "Epoch 5/10\n",
      "8/8 [==============================] - 11s 1s/step - loss: 0.2390 - accuracy: 0.9180 - val_loss: 0.1248 - val_accuracy: 0.9833\n",
      "Epoch 6/10\n",
      "8/8 [==============================] - 11s 1s/step - loss: 0.2622 - accuracy: 0.9180 - val_loss: 0.3572 - val_accuracy: 0.9833\n",
      "Epoch 7/10\n",
      "8/8 [==============================] - 11s 1s/step - loss: 0.2584 - accuracy: 0.9336 - val_loss: 0.2234 - val_accuracy: 0.9667\n",
      "Epoch 8/10\n",
      "8/8 [==============================] - 11s 1s/step - loss: 0.1890 - accuracy: 0.9375 - val_loss: 0.1095 - val_accuracy: 0.9833\n",
      "Epoch 9/10\n",
      "8/8 [==============================] - 11s 1s/step - loss: 0.2039 - accuracy: 0.9258 - val_loss: 0.1502 - val_accuracy: 0.9667\n",
      "Epoch 10/10\n",
      "8/8 [==============================] - 11s 1s/step - loss: 0.1882 - accuracy: 0.9375 - val_loss: 0.0810 - val_accuracy: 0.9667\n"
     ]
    }
   ],
   "source": [
    "hist = model.fit_generator(\n",
    "    train_generator,\n",
    "    steps_per_epoch = 8,\n",
    "    epochs = 10,\n",
    "    validation_data = validation_generator,\n",
    "    validation_steps = 2\n",
    ")"
   ]
  },
  {
   "cell_type": "code",
   "execution_count": 8,
   "id": "26e53ae7",
   "metadata": {
    "execution": {
     "iopub.execute_input": "2022-04-20T18:28:07.655815Z",
     "iopub.status.busy": "2022-04-20T18:28:07.655085Z",
     "iopub.status.idle": "2022-04-20T18:28:07.657433Z",
     "shell.execute_reply": "2022-04-20T18:28:07.657045Z",
     "shell.execute_reply.started": "2022-04-16T12:49:48.452815Z"
    },
    "papermill": {
     "duration": 0.049409,
     "end_time": "2022-04-20T18:28:07.657537",
     "exception": false,
     "start_time": "2022-04-20T18:28:07.608128",
     "status": "completed"
    },
    "tags": []
   },
   "outputs": [],
   "source": [
    "#model.save(\"model_I.h5\")"
   ]
  },
  {
   "cell_type": "code",
   "execution_count": null,
   "id": "2518433e",
   "metadata": {
    "papermill": {
     "duration": 0.043026,
     "end_time": "2022-04-20T18:28:07.743882",
     "exception": false,
     "start_time": "2022-04-20T18:28:07.700856",
     "status": "completed"
    },
    "tags": []
   },
   "outputs": [],
   "source": []
  }
 ],
 "metadata": {
  "kernelspec": {
   "display_name": "Python 3",
   "language": "python",
   "name": "python3"
  },
  "language_info": {
   "codemirror_mode": {
    "name": "ipython",
    "version": 3
   },
   "file_extension": ".py",
   "mimetype": "text/x-python",
   "name": "python",
   "nbconvert_exporter": "python",
   "pygments_lexer": "ipython3",
   "version": "3.7.12"
  },
  "papermill": {
   "default_parameters": {},
   "duration": 192.387547,
   "end_time": "2022-04-20T18:28:11.636457",
   "environment_variables": {},
   "exception": null,
   "input_path": "__notebook__.ipynb",
   "output_path": "__notebook__.ipynb",
   "parameters": {},
   "start_time": "2022-04-20T18:24:59.248910",
   "version": "2.3.3"
  }
 },
 "nbformat": 4,
 "nbformat_minor": 5
}
