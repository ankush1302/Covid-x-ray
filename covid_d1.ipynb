{
  "nbformat": 4,
  "nbformat_minor": 0,
  "metadata": {
    "colab": {
      "name": "Untitled1.ipynb",
      "provenance": [],
      "collapsed_sections": []
    },
    "kernelspec": {
      "display_name": "Python 3",
      "name": "python3"
    },
    "language_info": {
      "name": "python"
    }
  },
  "cells": [
    {
      "cell_type": "code",
      "metadata": {
        "id": "0-ebufWhxc-L"
      },
      "source": [
        "import numpy as np\n",
        "import cv2\n",
        "from tensorflow import keras\n",
        "\n",
        "from keras.utils import np_utils\n",
        "from tensorflow.keras.utils import plot_model\n",
        "#from keras.layers import Activation, Dropout, Convolution2D, GlobalAveragePooling2D\n",
        "from keras.models import Sequential\n",
        "import tensorflow as tf\n",
        "import os\n",
        "import matplotlib.pyplot as plt\n",
        "import tensorflow as tf\n",
        "from tensorflow.keras import datasets, layers, models\n",
        "\n",
        "from keras.layers.core import Dense, Dropout, Flatten\n",
        "from keras.layers.convolutional import Conv2D, MaxPooling2D, SeparableConv2D\n",
        "\n",
        "from keras.layers import Activation, Dropout, Convolution2D, GlobalAveragePooling2D\n",
        "from sklearn.model_selection import StratifiedKFold"
      ],
      "execution_count": 1,
      "outputs": []
    },
    {
      "cell_type": "code",
      "metadata": {
        "colab": {
          "base_uri": "https://localhost:8080/"
        },
        "id": "MeBMt-o3SUko",
        "outputId": "20ebe59c-9934-46bb-bcee-a555dac7f94c"
      },
      "source": [
        "from google.colab import drive\n",
        "drive.mount('/content/drive')"
      ],
      "execution_count": 2,
      "outputs": [
        {
          "output_type": "stream",
          "name": "stdout",
          "text": [
            "Drive already mounted at /content/drive; to attempt to forcibly remount, call drive.mount(\"/content/drive\", force_remount=True).\n"
          ]
        }
      ]
    },
    {
      "cell_type": "code",
      "metadata": {
        "id": "0xUPVoF9xhPR"
      },
      "source": [
        "train_data=r\"/content/drive/MyDrive/covid_1/covid_1\""
      ],
      "execution_count": 3,
      "outputs": []
    },
    {
      "cell_type": "code",
      "metadata": {
        "colab": {
          "base_uri": "https://localhost:8080/"
        },
        "id": "-0LdMq6Nxkc2",
        "outputId": "66306ef9-bd24-4b0c-e3b9-99f0ead1d4fa"
      },
      "source": [
        "os.listdir(train_data)\n"
      ],
      "execution_count": 4,
      "outputs": [
        {
          "output_type": "execute_result",
          "data": {
            "text/plain": [
              "['COVID', 'NORMAL']"
            ]
          },
          "metadata": {},
          "execution_count": 4
        }
      ]
    },
    {
      "cell_type": "code",
      "metadata": {
        "id": "D2M_fg1-xqWZ"
      },
      "source": [
        "train_df = []\n",
        "sizes=[]\n",
        "\n",
        "for directory in os.listdir(train_data):\n",
        "    path = os.path.join(train_data, directory)\n",
        "    if not os.path.isdir(path):\n",
        "        continue\n",
        "    for item in os.listdir(path):\n",
        "        img = cv2.imread(os.path.join(path, item))\n",
        "        img = cv2.cvtColor(img,  cv2.COLOR_BGR2GRAY)\n",
        "        img = cv2.resize(img, (224, 224))\n",
        "        train_df.append([img, directory])\n",
        "        sizes.append(img.shape)"
      ],
      "execution_count": 5,
      "outputs": []
    },
    {
      "cell_type": "code",
      "metadata": {
        "colab": {
          "base_uri": "https://localhost:8080/"
        },
        "id": "0fXrJGlFynv2",
        "outputId": "2b1f64d1-726a-4356-dc79-8e6c863cb560"
      },
      "source": [
        "print('total instances in train_df : ',len(train_df))\n",
        "print('shape of x-ray image : ',train_df[0][0].shape)\n"
      ],
      "execution_count": 6,
      "outputs": [
        {
          "output_type": "stream",
          "name": "stdout",
          "text": [
            "total instances in train_df :  1836\n",
            "shape of x-ray image :  (224, 224)\n"
          ]
        }
      ]
    },
    {
      "cell_type": "code",
      "metadata": {
        "colab": {
          "base_uri": "https://localhost:8080/"
        },
        "id": "MPlkmy3D040K",
        "outputId": "349b0d89-f5aa-4cbb-93ce-f4533c967166"
      },
      "source": [
        "\n",
        "y_train=[]\n",
        "X_train=[]\n",
        "\n",
        "for x,y in train_df:\n",
        "    X_train.append(x)\n",
        "    y_train.append(y)\n",
        "    \n",
        "\n",
        "for i in range(len(y_train)):\n",
        "    if y_train[i]=='NORMAL':\n",
        "        y_train[i]=0\n",
        "    else:\n",
        "        y_train[i]=1\n",
        "        \n",
        "        \n",
        "X_train=np.array(X_train)\n",
        "y_train=np.array(y_train)\n",
        "\n",
        "\n",
        "X_train=X_train/255\n",
        "\n",
        "print(X_train.shape)\n",
        "print(y_train.shape)\n",
        "\n",
        "X_train=X_train.reshape(len(X_train),224,224,1)\n",
        "#print('Shape : ' , X_train.shape)"
      ],
      "execution_count": 7,
      "outputs": [
        {
          "output_type": "stream",
          "name": "stdout",
          "text": [
            "(1836, 224, 224)\n",
            "(1836,)\n"
          ]
        }
      ]
    },
    {
      "cell_type": "code",
      "metadata": {
        "id": "TxLGG7Jux4R7"
      },
      "source": [
        ""
      ],
      "execution_count": 7,
      "outputs": []
    },
    {
      "cell_type": "code",
      "metadata": {
        "colab": {
          "base_uri": "https://localhost:8080/",
          "height": 265
        },
        "id": "4c4fClLW09Ps",
        "outputId": "4b799d0a-9636-4e24-d67c-6f4fd5791f3d"
      },
      "source": [
        "plt.hist(y_train);\n"
      ],
      "execution_count": 8,
      "outputs": [
        {
          "output_type": "display_data",
          "data": {
            "image/png": "[encoded data removed]",
            "text/plain": [
              "<Figure size 432x288 with 1 Axes>"
            ]
          },
          "metadata": {
            "needs_background": "light"
          }
        }
      ]
    },
    {
      "cell_type": "code",
      "metadata": {
        "id": "7RftDt0NTUkm"
      },
      "source": [
        "test_data=r\"/content/drive/MyDrive/covid_1/TEST\"\n",
        "\n",
        "test_df = []\n",
        "\n",
        "\n",
        "for directory in os.listdir(train_data):\n",
        "    path = os.path.join(test_data, directory)\n",
        "    if not os.path.isdir(path):\n",
        "        continue\n",
        "    for item in os.listdir(path):\n",
        "        img = cv2.imread(os.path.join(path, item))\n",
        "        img = cv2.cvtColor(img,  cv2.COLOR_BGR2GRAY)\n",
        "        img = cv2.resize(img, (224, 224))\n",
        "        test_df.append([img, directory])\n",
        "        "
      ],
      "execution_count": 28,
      "outputs": []
    },
    {
      "cell_type": "code",
      "metadata": {
        "id": "ytWseGxTTUhE",
        "colab": {
          "base_uri": "https://localhost:8080/"
        },
        "outputId": "e306f341-3de8-4ef8-a997-df23f43cae08"
      },
      "source": [
        "y_test=[]\n",
        "X_test=[]\n",
        "\n",
        "for x,y in train_df:\n",
        "    X_test.append(x)\n",
        "    y_test.append(y)\n",
        "    \n",
        "\n",
        "for i in range(len(y_test)):\n",
        "    if y_test[i]=='NORMAL':\n",
        "        y_test[i]=0\n",
        "    else:\n",
        "        y_test[i]=1\n",
        "        \n",
        "        \n",
        "X_test=np.array(X_test)\n",
        "y_test=np.array(y_test)\n",
        "\n",
        "\n",
        "X_test=X_test/255\n",
        "\n",
        "print(X_test.shape)\n",
        "print(y_test.shape)\n",
        "\n",
        "X_test=X_test.reshape(len(X_test),224,224,1)\n",
        "#print('Shape : ' , X_test.shape)"
      ],
      "execution_count": 29,
      "outputs": [
        {
          "output_type": "stream",
          "name": "stdout",
          "text": [
            "(1836, 224, 224)\n",
            "(1836,)\n"
          ]
        }
      ]
    },
    {
      "cell_type": "code",
      "metadata": {
        "id": "kSYkfEP11BsI"
      },
      "source": [
        "def AlexNet():\n",
        "    return tf.keras.models.Sequential([\n",
        "        # Here, we use a larger 11 x 11 window to capture objects. At the same\n",
        "        # time, we use a stride of 4 to greatly reduce the height and width of\n",
        "        # the output. Here, the number of output channels is much larger than\n",
        "        # that in LeNet\n",
        "        \n",
        "        # tf.keras.layers.Conv2D(filters=64, kernel_size=76,input_shape=(299,299,3),\n",
        "        #                        activation='relu'),\n",
        "        \n",
        "        tf.keras.layers.Conv2D(filters=96, kernel_size=11, strides=4,input_shape=(224,224,1),\n",
        "                               activation='relu'),\n",
        "        tf.keras.layers.MaxPool2D(pool_size=3, strides=2),\n",
        "        # Make the convolution window smaller, set padding to 2 for consistent\n",
        "        # height and width across the input and output, and increase the\n",
        "        # number of output channels\n",
        "        tf.keras.layers.Conv2D(filters=256, kernel_size=5, padding='same',\n",
        "                               activation='relu'),\n",
        "        tf.keras.layers.MaxPool2D(pool_size=3, strides=2),\n",
        "        # Use three successive convolutional layers and a smaller convolution\n",
        "        # window. Except for the final convolutional layer, the number of\n",
        "        # output channels is further increased. Pooling layers are not used to\n",
        "        # reduce the height and width of input after the first two\n",
        "        # convolutional layers\n",
        "        tf.keras.layers.Conv2D(filters=384, kernel_size=3, padding='same',\n",
        "                               activation='relu'),\n",
        "        tf.keras.layers.Conv2D(filters=384, kernel_size=3, padding='same',\n",
        "                               activation='relu'),\n",
        "        tf.keras.layers.Conv2D(filters=256, kernel_size=3, padding='same',\n",
        "                               activation='relu'),\n",
        "        tf.keras.layers.MaxPool2D(pool_size=3, strides=2),\n",
        "        tf.keras.layers.Flatten(),\n",
        "        # Here, the number of outputs of the fully-connected layer is several\n",
        "        # times larger than that in LeNet. Use the dropout layer to mitigate\n",
        "        # overfitting\n",
        "        tf.keras.layers.Dense(4096, activation='relu'),\n",
        "        tf.keras.layers.Dropout(0.5),\n",
        "        tf.keras.layers.Dense(4096, activation='relu'),\n",
        "        tf.keras.layers.Dropout(0.5),\n",
        "        # Output layer. Since we are using Fashion-MNIST, the number of\n",
        "        # classes is 10, instead of 1000 as in the paper\n",
        "        tf.keras.layers.Dense(1, activation='sigmoid')])"
      ],
      "execution_count": 22,
      "outputs": []
    },
    {
      "cell_type": "code",
      "metadata": {
        "colab": {
          "base_uri": "https://localhost:8080/"
        },
        "id": "Y9cCkmUL1SuQ",
        "outputId": "83c37733-fcb6-4620-ba08-6f606b7241df"
      },
      "source": [
        "\n",
        "model_=AlexNet()\n",
        "model_.summary()"
      ],
      "execution_count": 23,
      "outputs": [
        {
          "output_type": "stream",
          "name": "stdout",
          "text": [
            "Model: \"sequential_3\"\n",
            "_________________________________________________________________\n",
            "Layer (type)                 Output Shape              Param #   \n",
            "=================================================================\n",
            "conv2d_15 (Conv2D)           (None, 54, 54, 96)        11712     \n",
            "_________________________________________________________________\n",
            "max_pooling2d_9 (MaxPooling2 (None, 26, 26, 96)        0         \n",
            "_________________________________________________________________\n",
            "conv2d_16 (Conv2D)           (None, 26, 26, 256)       614656    \n",
            "_________________________________________________________________\n",
            "max_pooling2d_10 (MaxPooling (None, 12, 12, 256)       0         \n",
            "_________________________________________________________________\n",
            "conv2d_17 (Conv2D)           (None, 12, 12, 384)       885120    \n",
            "_________________________________________________________________\n",
            "conv2d_18 (Conv2D)           (None, 12, 12, 384)       1327488   \n",
            "_________________________________________________________________\n",
            "conv2d_19 (Conv2D)           (None, 12, 12, 256)       884992    \n",
            "_________________________________________________________________\n",
            "max_pooling2d_11 (MaxPooling (None, 5, 5, 256)         0         \n",
            "_________________________________________________________________\n",
            "flatten_3 (Flatten)          (None, 6400)              0         \n",
            "_________________________________________________________________\n",
            "dense_9 (Dense)              (None, 4096)              26218496  \n",
            "_________________________________________________________________\n",
            "dropout_6 (Dropout)          (None, 4096)              0         \n",
            "_________________________________________________________________\n",
            "dense_10 (Dense)             (None, 4096)              16781312  \n",
            "_________________________________________________________________\n",
            "dropout_7 (Dropout)          (None, 4096)              0         \n",
            "_________________________________________________________________\n",
            "dense_11 (Dense)             (None, 1)                 4097      \n",
            "=================================================================\n",
            "Total params: 46,727,873\n",
            "Trainable params: 46,727,873\n",
            "Non-trainable params: 0\n",
            "_________________________________________________________________\n"
          ]
        }
      ]
    },
    {
      "cell_type": "code",
      "metadata": {
        "id": "SVKphc5E1XgX"
      },
      "source": [
        "model_.compile(optimizer=keras.optimizers.Adam(learning_rate=0.001),\n",
        "                  loss=tf.keras.losses.BinaryCrossentropy(),\n",
        "                  metrics=[keras.metrics.BinaryAccuracy(name='accuracy')])"
      ],
      "execution_count": 24,
      "outputs": []
    },
    {
      "cell_type": "code",
      "metadata": {
        "id": "oBQ9h8XHHSdi"
      },
      "source": [
        "from sklearn.metrics import accuracy_score"
      ],
      "execution_count": 25,
      "outputs": []
    },
    {
      "cell_type": "code",
      "metadata": {
        "colab": {
          "base_uri": "https://localhost:8080/"
        },
        "id": "uQdVidZ81eFG",
        "outputId": "23bd3392-df4e-4436-c0f4-093aee5d73cb"
      },
      "source": [
        "accuracy=[]\n",
        "skf=StratifiedKFold(n_splits=5,random_state=None)\n",
        "skf.get_n_splits(X_train,y_train)\n",
        "for train_index,test_index in skf.split(X_train,y_train):\n",
        "    print('train :' ,train_index ,'validation :', test_index)\n",
        "    X1_train,X1_test=X_train[train_index],X_train[test_index]\n",
        "    y1_train,y1_test=y_train[train_index],y_train[test_index]\n",
        "    \n",
        "    \n",
        "    history=model_.fit(X1_train,y1_train,\n",
        "                    epochs=5,\n",
        "                    #batch_size=64,\n",
        "                    #validation_data=(X_test,y_test),\n",
        "                    #class_weight=class_weight,\n",
        "                    callbacks=[tf.keras.callbacks.EarlyStopping(monitor='accuracy',patience=2,mode='auto')]   \n",
        "                 )\n",
        "    \n",
        "    prediction=(model_.predict(X1_test))\n",
        "    c=[]\n",
        "    for ele in prediction.tolist():\n",
        "      c.append(round(ele[0]))\n",
        "    score=accuracy_score(c,y1_test)\n",
        "    accuracy.append(score)"
      ],
      "execution_count": 26,
      "outputs": [
        {
          "output_type": "stream",
          "name": "stdout",
          "text": [
            "train : [ 144  145  146 ... 1833 1834 1835] validation : [  0   1   2   3   4   5   6   7   8   9  10  11  12  13  14  15  16  17\n",
            "  18  19  20  21  22  23  24  25  26  27  28  29  30  31  32  33  34  35\n",
            "  36  37  38  39  40  41  42  43  44  45  46  47  48  49  50  51  52  53\n",
            "  54  55  56  57  58  59  60  61  62  63  64  65  66  67  68  69  70  71\n",
            "  72  73  74  75  76  77  78  79  80  81  82  83  84  85  86  87  88  89\n",
            "  90  91  92  93  94  95  96  97  98  99 100 101 102 103 104 105 106 107\n",
            " 108 109 110 111 112 113 114 115 116 117 118 119 120 121 122 123 124 125\n",
            " 126 127 128 129 130 131 132 133 134 135 136 137 138 139 140 141 142 143\n",
            " 720 721 722 723 724 725 726 727 728 729 730 731 732 733 734 735 736 737\n",
            " 738 739 740 741 742 743 744 745 746 747 748 749 750 751 752 753 754 755\n",
            " 756 757 758 759 760 761 762 763 764 765 766 767 768 769 770 771 772 773\n",
            " 774 775 776 777 778 779 780 781 782 783 784 785 786 787 788 789 790 791\n",
            " 792 793 794 795 796 797 798 799 800 801 802 803 804 805 806 807 808 809\n",
            " 810 811 812 813 814 815 816 817 818 819 820 821 822 823 824 825 826 827\n",
            " 828 829 830 831 832 833 834 835 836 837 838 839 840 841 842 843 844 845\n",
            " 846 847 848 849 850 851 852 853 854 855 856 857 858 859 860 861 862 863\n",
            " 864 865 866 867 868 869 870 871 872 873 874 875 876 877 878 879 880 881\n",
            " 882 883 884 885 886 887 888 889 890 891 892 893 894 895 896 897 898 899\n",
            " 900 901 902 903 904 905 906 907 908 909 910 911 912 913 914 915 916 917\n",
            " 918 919 920 921 922 923 924 925 926 927 928 929 930 931 932 933 934 935\n",
            " 936 937 938 939 940 941 942 943]\n",
            "Epoch 1/5\n",
            "46/46 [==============================] - 188s 4s/step - loss: 0.9173 - accuracy: 0.5940\n",
            "Epoch 2/5\n",
            "46/46 [==============================] - 189s 4s/step - loss: 0.4689 - accuracy: 0.7977\n",
            "Epoch 3/5\n",
            "46/46 [==============================] - 187s 4s/step - loss: 0.2368 - accuracy: 0.9244\n",
            "Epoch 4/5\n",
            "46/46 [==============================] - 185s 4s/step - loss: 0.2697 - accuracy: 0.9101\n",
            "Epoch 5/5\n",
            "46/46 [==============================] - 186s 4s/step - loss: 0.2916 - accuracy: 0.8937\n",
            "train : [   0    1    2 ... 1833 1834 1835] validation : [ 144  145  146  147  148  149  150  151  152  153  154  155  156  157\n",
            "  158  159  160  161  162  163  164  165  166  167  168  169  170  171\n",
            "  172  173  174  175  176  177  178  179  180  181  182  183  184  185\n",
            "  186  187  188  189  190  191  192  193  194  195  196  197  198  199\n",
            "  200  201  202  203  204  205  206  207  208  209  210  211  212  213\n",
            "  214  215  216  217  218  219  220  221  222  223  224  225  226  227\n",
            "  228  229  230  231  232  233  234  235  236  237  238  239  240  241\n",
            "  242  243  244  245  246  247  248  249  250  251  252  253  254  255\n",
            "  256  257  258  259  260  261  262  263  264  265  266  267  268  269\n",
            "  270  271  272  273  274  275  276  277  278  279  280  281  282  283\n",
            "  284  285  286  287  944  945  946  947  948  949  950  951  952  953\n",
            "  954  955  956  957  958  959  960  961  962  963  964  965  966  967\n",
            "  968  969  970  971  972  973  974  975  976  977  978  979  980  981\n",
            "  982  983  984  985  986  987  988  989  990  991  992  993  994  995\n",
            "  996  997  998  999 1000 1001 1002 1003 1004 1005 1006 1007 1008 1009\n",
            " 1010 1011 1012 1013 1014 1015 1016 1017 1018 1019 1020 1021 1022 1023\n",
            " 1024 1025 1026 1027 1028 1029 1030 1031 1032 1033 1034 1035 1036 1037\n",
            " 1038 1039 1040 1041 1042 1043 1044 1045 1046 1047 1048 1049 1050 1051\n",
            " 1052 1053 1054 1055 1056 1057 1058 1059 1060 1061 1062 1063 1064 1065\n",
            " 1066 1067 1068 1069 1070 1071 1072 1073 1074 1075 1076 1077 1078 1079\n",
            " 1080 1081 1082 1083 1084 1085 1086 1087 1088 1089 1090 1091 1092 1093\n",
            " 1094 1095 1096 1097 1098 1099 1100 1101 1102 1103 1104 1105 1106 1107\n",
            " 1108 1109 1110 1111 1112 1113 1114 1115 1116 1117 1118 1119 1120 1121\n",
            " 1122 1123 1124 1125 1126 1127 1128 1129 1130 1131 1132 1133 1134 1135\n",
            " 1136 1137 1138 1139 1140 1141 1142 1143 1144 1145 1146 1147 1148 1149\n",
            " 1150 1151 1152 1153 1154 1155 1156 1157 1158 1159 1160 1161 1162 1163\n",
            " 1164 1165 1166]\n",
            "Epoch 1/5\n",
            "46/46 [==============================] - 190s 4s/step - loss: 0.1909 - accuracy: 0.9285\n",
            "Epoch 2/5\n",
            "46/46 [==============================] - 187s 4s/step - loss: 0.2350 - accuracy: 0.9299\n",
            "Epoch 3/5\n",
            "46/46 [==============================] - 186s 4s/step - loss: 0.2164 - accuracy: 0.9285\n",
            "Epoch 4/5\n",
            "46/46 [==============================] - 186s 4s/step - loss: 0.2169 - accuracy: 0.9265\n",
            "train : [   0    1    2 ... 1833 1834 1835] validation : [ 288  289  290  291  292  293  294  295  296  297  298  299  300  301\n",
            "  302  303  304  305  306  307  308  309  310  311  312  313  314  315\n",
            "  316  317  318  319  320  321  322  323  324  325  326  327  328  329\n",
            "  330  331  332  333  334  335  336  337  338  339  340  341  342  343\n",
            "  344  345  346  347  348  349  350  351  352  353  354  355  356  357\n",
            "  358  359  360  361  362  363  364  365  366  367  368  369  370  371\n",
            "  372  373  374  375  376  377  378  379  380  381  382  383  384  385\n",
            "  386  387  388  389  390  391  392  393  394  395  396  397  398  399\n",
            "  400  401  402  403  404  405  406  407  408  409  410  411  412  413\n",
            "  414  415  416  417  418  419  420  421  422  423  424  425  426  427\n",
            "  428  429  430  431 1167 1168 1169 1170 1171 1172 1173 1174 1175 1176\n",
            " 1177 1178 1179 1180 1181 1182 1183 1184 1185 1186 1187 1188 1189 1190\n",
            " 1191 1192 1193 1194 1195 1196 1197 1198 1199 1200 1201 1202 1203 1204\n",
            " 1205 1206 1207 1208 1209 1210 1211 1212 1213 1214 1215 1216 1217 1218\n",
            " 1219 1220 1221 1222 1223 1224 1225 1226 1227 1228 1229 1230 1231 1232\n",
            " 1233 1234 1235 1236 1237 1238 1239 1240 1241 1242 1243 1244 1245 1246\n",
            " 1247 1248 1249 1250 1251 1252 1253 1254 1255 1256 1257 1258 1259 1260\n",
            " 1261 1262 1263 1264 1265 1266 1267 1268 1269 1270 1271 1272 1273 1274\n",
            " 1275 1276 1277 1278 1279 1280 1281 1282 1283 1284 1285 1286 1287 1288\n",
            " 1289 1290 1291 1292 1293 1294 1295 1296 1297 1298 1299 1300 1301 1302\n",
            " 1303 1304 1305 1306 1307 1308 1309 1310 1311 1312 1313 1314 1315 1316\n",
            " 1317 1318 1319 1320 1321 1322 1323 1324 1325 1326 1327 1328 1329 1330\n",
            " 1331 1332 1333 1334 1335 1336 1337 1338 1339 1340 1341 1342 1343 1344\n",
            " 1345 1346 1347 1348 1349 1350 1351 1352 1353 1354 1355 1356 1357 1358\n",
            " 1359 1360 1361 1362 1363 1364 1365 1366 1367 1368 1369 1370 1371 1372\n",
            " 1373 1374 1375 1376 1377 1378 1379 1380 1381 1382 1383 1384 1385 1386\n",
            " 1387 1388 1389]\n",
            "Epoch 1/5\n",
            "46/46 [==============================] - 186s 4s/step - loss: 0.2069 - accuracy: 0.9360\n",
            "Epoch 2/5\n",
            "46/46 [==============================] - 187s 4s/step - loss: 0.1759 - accuracy: 0.9408\n",
            "Epoch 3/5\n",
            "46/46 [==============================] - 187s 4s/step - loss: 0.1629 - accuracy: 0.9483\n",
            "Epoch 4/5\n",
            "46/46 [==============================] - 187s 4s/step - loss: 0.1576 - accuracy: 0.9496\n",
            "Epoch 5/5\n",
            "46/46 [==============================] - 188s 4s/step - loss: 0.1357 - accuracy: 0.9564\n",
            "train : [   0    1    2 ... 1833 1834 1835] validation : [ 432  433  434  435  436  437  438  439  440  441  442  443  444  445\n",
            "  446  447  448  449  450  451  452  453  454  455  456  457  458  459\n",
            "  460  461  462  463  464  465  466  467  468  469  470  471  472  473\n",
            "  474  475  476  477  478  479  480  481  482  483  484  485  486  487\n",
            "  488  489  490  491  492  493  494  495  496  497  498  499  500  501\n",
            "  502  503  504  505  506  507  508  509  510  511  512  513  514  515\n",
            "  516  517  518  519  520  521  522  523  524  525  526  527  528  529\n",
            "  530  531  532  533  534  535  536  537  538  539  540  541  542  543\n",
            "  544  545  546  547  548  549  550  551  552  553  554  555  556  557\n",
            "  558  559  560  561  562  563  564  565  566  567  568  569  570  571\n",
            "  572  573  574  575 1390 1391 1392 1393 1394 1395 1396 1397 1398 1399\n",
            " 1400 1401 1402 1403 1404 1405 1406 1407 1408 1409 1410 1411 1412 1413\n",
            " 1414 1415 1416 1417 1418 1419 1420 1421 1422 1423 1424 1425 1426 1427\n",
            " 1428 1429 1430 1431 1432 1433 1434 1435 1436 1437 1438 1439 1440 1441\n",
            " 1442 1443 1444 1445 1446 1447 1448 1449 1450 1451 1452 1453 1454 1455\n",
            " 1456 1457 1458 1459 1460 1461 1462 1463 1464 1465 1466 1467 1468 1469\n",
            " 1470 1471 1472 1473 1474 1475 1476 1477 1478 1479 1480 1481 1482 1483\n",
            " 1484 1485 1486 1487 1488 1489 1490 1491 1492 1493 1494 1495 1496 1497\n",
            " 1498 1499 1500 1501 1502 1503 1504 1505 1506 1507 1508 1509 1510 1511\n",
            " 1512 1513 1514 1515 1516 1517 1518 1519 1520 1521 1522 1523 1524 1525\n",
            " 1526 1527 1528 1529 1530 1531 1532 1533 1534 1535 1536 1537 1538 1539\n",
            " 1540 1541 1542 1543 1544 1545 1546 1547 1548 1549 1550 1551 1552 1553\n",
            " 1554 1555 1556 1557 1558 1559 1560 1561 1562 1563 1564 1565 1566 1567\n",
            " 1568 1569 1570 1571 1572 1573 1574 1575 1576 1577 1578 1579 1580 1581\n",
            " 1582 1583 1584 1585 1586 1587 1588 1589 1590 1591 1592 1593 1594 1595\n",
            " 1596 1597 1598 1599 1600 1601 1602 1603 1604 1605 1606 1607 1608 1609\n",
            " 1610 1611 1612]\n",
            "Epoch 1/5\n",
            "46/46 [==============================] - 190s 4s/step - loss: 0.1644 - accuracy: 0.9449\n",
            "Epoch 2/5\n",
            "46/46 [==============================] - 192s 4s/step - loss: 0.1579 - accuracy: 0.9435\n",
            "Epoch 3/5\n",
            "46/46 [==============================] - 190s 4s/step - loss: 0.1449 - accuracy: 0.9435\n",
            "train : [   0    1    2 ... 1610 1611 1612] validation : [ 576  577  578  579  580  581  582  583  584  585  586  587  588  589\n",
            "  590  591  592  593  594  595  596  597  598  599  600  601  602  603\n",
            "  604  605  606  607  608  609  610  611  612  613  614  615  616  617\n",
            "  618  619  620  621  622  623  624  625  626  627  628  629  630  631\n",
            "  632  633  634  635  636  637  638  639  640  641  642  643  644  645\n",
            "  646  647  648  649  650  651  652  653  654  655  656  657  658  659\n",
            "  660  661  662  663  664  665  666  667  668  669  670  671  672  673\n",
            "  674  675  676  677  678  679  680  681  682  683  684  685  686  687\n",
            "  688  689  690  691  692  693  694  695  696  697  698  699  700  701\n",
            "  702  703  704  705  706  707  708  709  710  711  712  713  714  715\n",
            "  716  717  718  719 1613 1614 1615 1616 1617 1618 1619 1620 1621 1622\n",
            " 1623 1624 1625 1626 1627 1628 1629 1630 1631 1632 1633 1634 1635 1636\n",
            " 1637 1638 1639 1640 1641 1642 1643 1644 1645 1646 1647 1648 1649 1650\n",
            " 1651 1652 1653 1654 1655 1656 1657 1658 1659 1660 1661 1662 1663 1664\n",
            " 1665 1666 1667 1668 1669 1670 1671 1672 1673 1674 1675 1676 1677 1678\n",
            " 1679 1680 1681 1682 1683 1684 1685 1686 1687 1688 1689 1690 1691 1692\n",
            " 1693 1694 1695 1696 1697 1698 1699 1700 1701 1702 1703 1704 1705 1706\n",
            " 1707 1708 1709 1710 1711 1712 1713 1714 1715 1716 1717 1718 1719 1720\n",
            " 1721 1722 1723 1724 1725 1726 1727 1728 1729 1730 1731 1732 1733 1734\n",
            " 1735 1736 1737 1738 1739 1740 1741 1742 1743 1744 1745 1746 1747 1748\n",
            " 1749 1750 1751 1752 1753 1754 1755 1756 1757 1758 1759 1760 1761 1762\n",
            " 1763 1764 1765 1766 1767 1768 1769 1770 1771 1772 1773 1774 1775 1776\n",
            " 1777 1778 1779 1780 1781 1782 1783 1784 1785 1786 1787 1788 1789 1790\n",
            " 1791 1792 1793 1794 1795 1796 1797 1798 1799 1800 1801 1802 1803 1804\n",
            " 1805 1806 1807 1808 1809 1810 1811 1812 1813 1814 1815 1816 1817 1818\n",
            " 1819 1820 1821 1822 1823 1824 1825 1826 1827 1828 1829 1830 1831 1832\n",
            " 1833 1834 1835]\n",
            "Epoch 1/5\n",
            "46/46 [==============================] - 192s 4s/step - loss: 0.1335 - accuracy: 0.9551\n",
            "Epoch 2/5\n",
            "46/46 [==============================] - 194s 4s/step - loss: 0.1259 - accuracy: 0.9530\n",
            "Epoch 3/5\n",
            "46/46 [==============================] - 190s 4s/step - loss: 0.1254 - accuracy: 0.9544\n"
          ]
        }
      ]
    },
    {
      "cell_type": "code",
      "metadata": {
        "colab": {
          "base_uri": "https://localhost:8080/"
        },
        "id": "6l_PavH03Ubo",
        "outputId": "bf88fcac-519b-4d11-e36f-c42850f478f6"
      },
      "source": [
        "accuracy"
      ],
      "execution_count": 27,
      "outputs": [
        {
          "output_type": "execute_result",
          "data": {
            "text/plain": [
              "[0.8885869565217391,\n",
              " 0.9155313351498637,\n",
              " 0.9346049046321526,\n",
              " 0.9645776566757494,\n",
              " 0.9754768392370572]"
            ]
          },
          "metadata": {},
          "execution_count": 27
        }
      ]
    },
    {
      "cell_type": "code",
      "metadata": {
        "id": "B5ttgttKZVw3"
      },
      "source": [
        "pred=(model_.predict(X_test))\n",
        "d=[]\n",
        "for ele in pred.tolist():\n",
        "    d.append(round(ele[0]))\n",
        "score=accuracy_score(d,y_test)"
      ],
      "execution_count": 31,
      "outputs": []
    },
    {
      "cell_type": "code",
      "metadata": {
        "id": "FUUfGt2w2Ivg",
        "colab": {
          "base_uri": "https://localhost:8080/"
        },
        "outputId": "ab1f66cc-f309-40aa-c61d-cd3060bd2c00"
      },
      "source": [
        "score"
      ],
      "execution_count": 32,
      "outputs": [
        {
          "output_type": "execute_result",
          "data": {
            "text/plain": [
              "0.9684095860566448"
            ]
          },
          "metadata": {},
          "execution_count": 32
        }
      ]
    },
    {
      "cell_type": "code",
      "metadata": {
        "id": "GprH-rxAuk5Z"
      },
      "source": [
        ""
      ],
      "execution_count": null,
      "outputs": []
    }
  ]
}
