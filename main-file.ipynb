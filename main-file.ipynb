{
 "cells": [
  {
   "cell_type": "code",
   "execution_count": 1,
   "id": "541de760",
   "metadata": {
    "_cell_guid": "b1076dfc-b9ad-4769-8c92-a6c4dae69d19",
    "_uuid": "8f2839f25d086af736a60e9eeb907d3b93b6e0e5",
    "execution": {
     "iopub.execute_input": "2022-04-20T19:50:33.857163Z",
     "iopub.status.busy": "2022-04-20T19:50:33.856643Z",
     "iopub.status.idle": "2022-04-20T19:50:51.644921Z",
     "shell.execute_reply": "2022-04-20T19:50:51.644156Z"
    },
    "papermill": {
     "duration": 17.810692,
     "end_time": "2022-04-20T19:50:51.647223",
     "exception": false,
     "start_time": "2022-04-20T19:50:33.836531",
     "status": "completed"
    },
    "tags": []
   },
   "outputs": [
    {
     "name": "stdout",
     "output_type": "stream",
     "text": [
      "Collecting imutils\r\n",
      "  Downloading imutils-0.5.4.tar.gz (17 kB)\r\n",
      "  Preparing metadata (setup.py) ... \u001b[?25l-\b \bdone\r\n",
      "\u001b[?25hBuilding wheels for collected packages: imutils\r\n",
      "  Building wheel for imutils (setup.py) ... \u001b[?25l-\b \b\\\b \bdone\r\n",
      "\u001b[?25h  Created wheel for imutils: filename=imutils-0.5.4-py3-none-any.whl size=25858 sha256=3deb89aae190d3ed9d45cb7d7455b5cb9f2e2aeac5154c096bb8203923907563\r\n",
      "  Stored in directory: /root/.cache/pip/wheels/86/d7/0a/4923351ed1cec5d5e24c1eaf8905567b02a0343b24aa873df2\r\n",
      "Successfully built imutils\r\n",
      "Installing collected packages: imutils\r\n",
      "Successfully installed imutils-0.5.4\r\n",
      "\u001b[33mWARNING: Running pip as the 'root' user can result in broken permissions and conflicting behaviour with the system package manager. It is recommended to use a virtual environment instead: https://pip.pypa.io/warnings/venv\u001b[0m\u001b[33m\r\n",
      "\u001b[0m"
     ]
    }
   ],
   "source": [
    "import pandas as pd\n",
    "import numpy as np\n",
    "import os\n",
    "import shutil\n",
    "import cv2\n",
    "import matplotlib.pyplot as plt\n",
    "import warnings\n",
    "warnings.filterwarnings('ignore')\n",
    "import tensorflow as tf\n",
    "! pip install imutils \n",
    "from imutils import paths\n",
    "import os\n",
    "from sklearn.model_selection import train_test_split\n",
    "import shutil\n",
    "from tensorflow.keras.preprocessing.image import ImageDataGenerator\n",
    "from tensorflow.keras.models import Model\n",
    "from tensorflow.keras.optimizers import Adam\n",
    "import random\n",
    "import warnings\n",
    "warnings.filterwarnings('ignore')\n",
    "from tensorflow import keras"
   ]
  },
  {
   "cell_type": "code",
   "execution_count": null,
   "id": "4f8ba73f",
   "metadata": {
    "execution": {
     "iopub.execute_input": "2022-04-20T17:04:55.078698Z",
     "iopub.status.busy": "2022-04-20T17:04:55.078452Z",
     "iopub.status.idle": "2022-04-20T17:04:55.082746Z",
     "shell.execute_reply": "2022-04-20T17:04:55.081778Z",
     "shell.execute_reply.started": "2022-04-20T17:04:55.078672Z"
    },
    "papermill": {
     "duration": 0.020604,
     "end_time": "2022-04-20T19:50:51.690560",
     "exception": false,
     "start_time": "2022-04-20T19:50:51.669956",
     "status": "completed"
    },
    "tags": []
   },
   "outputs": [],
   "source": []
  },
  {
   "cell_type": "code",
   "execution_count": 2,
   "id": "2e2e2429",
   "metadata": {
    "execution": {
     "iopub.execute_input": "2022-04-20T19:50:51.733057Z",
     "iopub.status.busy": "2022-04-20T19:50:51.732402Z",
     "iopub.status.idle": "2022-04-20T19:50:51.736056Z",
     "shell.execute_reply": "2022-04-20T19:50:51.735398Z"
    },
    "papermill": {
     "duration": 0.026671,
     "end_time": "2022-04-20T19:50:51.737665",
     "exception": false,
     "start_time": "2022-04-20T19:50:51.710994",
     "status": "completed"
    },
    "tags": []
   },
   "outputs": [],
   "source": [
    "COVID_PATH_1 = \"../input/chest-xray-for-covid19-detection/Dataset/Train/Covid\"\n",
    "NORMAL_PATH_1 = \"../input/chest-xray-for-covid19-detection/Dataset/Train/Normal\""
   ]
  },
  {
   "cell_type": "code",
   "execution_count": 3,
   "id": "6b763bd9",
   "metadata": {
    "execution": {
     "iopub.execute_input": "2022-04-20T19:50:51.779391Z",
     "iopub.status.busy": "2022-04-20T19:50:51.778805Z",
     "iopub.status.idle": "2022-04-20T19:50:51.782329Z",
     "shell.execute_reply": "2022-04-20T19:50:51.781596Z"
    },
    "papermill": {
     "duration": 0.026175,
     "end_time": "2022-04-20T19:50:51.783976",
     "exception": false,
     "start_time": "2022-04-20T19:50:51.757801",
     "status": "completed"
    },
    "tags": []
   },
   "outputs": [],
   "source": [
    "COVID_PATH_2 = \"../input/covid19-radiography-database/COVID-19_Radiography_Dataset/COVID\"\n",
    "NORMAL_PATH_2 = \"../input/covid19-radiography-database/COVID-19_Radiography_Dataset/Normal\""
   ]
  },
  {
   "cell_type": "code",
   "execution_count": 4,
   "id": "f96944d3",
   "metadata": {
    "execution": {
     "iopub.execute_input": "2022-04-20T19:50:51.826984Z",
     "iopub.status.busy": "2022-04-20T19:50:51.826761Z",
     "iopub.status.idle": "2022-04-20T19:50:51.833117Z",
     "shell.execute_reply": "2022-04-20T19:50:51.832471Z"
    },
    "papermill": {
     "duration": 0.030487,
     "end_time": "2022-04-20T19:50:51.834755",
     "exception": false,
     "start_time": "2022-04-20T19:50:51.804268",
     "status": "completed"
    },
    "tags": []
   },
   "outputs": [],
   "source": [
    "def sp_noise(image,prob):\n",
    "    '''\n",
    "    As the name suggests salt (white) in pepper (black)–white spots \n",
    "    in the dark regions or pepper (black) in salt (white)–black spots\n",
    "    in the white regions. In other words, an image having salt-and-pepper \n",
    "    noise will have a few dark pixels in bright regions and a few bright pixels\n",
    "    in dark regions.\n",
    "    '''\n",
    "    output = np.zeros(image.shape,np.uint8)\n",
    "    thres = 1 - prob \n",
    "    for i in range(image.shape[0]):\n",
    "        for j in range(image.shape[1]):\n",
    "            rdn = random.random()\n",
    "            if rdn < prob:\n",
    "                output[i][j] = 0\n",
    "            elif rdn > thres:\n",
    "                output[i][j] = 255\n",
    "            else:\n",
    "                output[i][j] = image[i][j]\n",
    "    return output"
   ]
  },
  {
   "cell_type": "code",
   "execution_count": 5,
   "id": "58dde891",
   "metadata": {
    "execution": {
     "iopub.execute_input": "2022-04-20T19:50:51.878695Z",
     "iopub.status.busy": "2022-04-20T19:50:51.878475Z",
     "iopub.status.idle": "2022-04-20T19:50:51.884175Z",
     "shell.execute_reply": "2022-04-20T19:50:51.883520Z"
    },
    "papermill": {
     "duration": 0.030445,
     "end_time": "2022-04-20T19:50:51.885786",
     "exception": false,
     "start_time": "2022-04-20T19:50:51.855341",
     "status": "completed"
    },
    "tags": []
   },
   "outputs": [],
   "source": [
    "def add1(path,array):\n",
    "    for item in os.listdir(path):\n",
    "        img = cv2.imread(os.path.join(path, item))\n",
    "        \n",
    "        img = cv2.resize(img, (224, 224))\n",
    "        img=sp_noise(img,0.7)\n",
    "        array.append(img)\n",
    "        \n",
    "def add2(path,array):\n",
    "    for item in os.listdir(path):\n",
    "        img = cv2.imread(os.path.join(path, item))\n",
    "        \n",
    "        img = cv2.resize(img, (224, 224))\n",
    "        array.append(img)"
   ]
  },
  {
   "cell_type": "code",
   "execution_count": null,
   "id": "1aa9b00b",
   "metadata": {
    "execution": {
     "iopub.execute_input": "2022-04-20T17:07:19.610543Z",
     "iopub.status.busy": "2022-04-20T17:07:19.609783Z",
     "iopub.status.idle": "2022-04-20T17:07:19.61732Z",
     "shell.execute_reply": "2022-04-20T17:07:19.616353Z",
     "shell.execute_reply.started": "2022-04-20T17:07:19.610506Z"
    },
    "papermill": {
     "duration": 0.020268,
     "end_time": "2022-04-20T19:50:51.926440",
     "exception": false,
     "start_time": "2022-04-20T19:50:51.906172",
     "status": "completed"
    },
    "tags": []
   },
   "outputs": [],
   "source": []
  },
  {
   "cell_type": "code",
   "execution_count": 6,
   "id": "a7cace50",
   "metadata": {
    "execution": {
     "iopub.execute_input": "2022-04-20T19:50:51.968562Z",
     "iopub.status.busy": "2022-04-20T19:50:51.968201Z",
     "iopub.status.idle": "2022-04-20T19:51:14.365945Z",
     "shell.execute_reply": "2022-04-20T19:51:14.365174Z"
    },
    "papermill": {
     "duration": 22.421574,
     "end_time": "2022-04-20T19:51:14.368413",
     "exception": false,
     "start_time": "2022-04-20T19:50:51.946839",
     "status": "completed"
    },
    "tags": []
   },
   "outputs": [],
   "source": [
    "dataset_1=[]\n",
    "\n",
    "add1(COVID_PATH_1,dataset_1)\n",
    "add1(NORMAL_PATH_1,dataset_1)\n"
   ]
  },
  {
   "cell_type": "code",
   "execution_count": 7,
   "id": "89b0c988",
   "metadata": {
    "execution": {
     "iopub.execute_input": "2022-04-20T19:51:14.411240Z",
     "iopub.status.busy": "2022-04-20T19:51:14.410873Z",
     "iopub.status.idle": "2022-04-20T19:53:26.981840Z",
     "shell.execute_reply": "2022-04-20T19:53:26.981031Z"
    },
    "papermill": {
     "duration": 132.594754,
     "end_time": "2022-04-20T19:53:26.984114",
     "exception": false,
     "start_time": "2022-04-20T19:51:14.389360",
     "status": "completed"
    },
    "tags": []
   },
   "outputs": [],
   "source": [
    "dataset_2=[]\n",
    "add2(COVID_PATH_2,dataset_2)\n",
    "add2(NORMAL_PATH_2,dataset_2)\n"
   ]
  },
  {
   "cell_type": "code",
   "execution_count": 8,
   "id": "5b37aa86",
   "metadata": {
    "execution": {
     "iopub.execute_input": "2022-04-20T19:53:27.026627Z",
     "iopub.status.busy": "2022-04-20T19:53:27.026404Z",
     "iopub.status.idle": "2022-04-20T19:53:27.033301Z",
     "shell.execute_reply": "2022-04-20T19:53:27.032650Z"
    },
    "papermill": {
     "duration": 0.030507,
     "end_time": "2022-04-20T19:53:27.035590",
     "exception": false,
     "start_time": "2022-04-20T19:53:27.005083",
     "status": "completed"
    },
    "tags": []
   },
   "outputs": [
    {
     "data": {
      "text/plain": [
       "numpy.ndarray"
      ]
     },
     "execution_count": 8,
     "metadata": {},
     "output_type": "execute_result"
    }
   ],
   "source": [
    "type(dataset_2[0])"
   ]
  },
  {
   "cell_type": "code",
   "execution_count": 9,
   "id": "b574a8b0",
   "metadata": {
    "execution": {
     "iopub.execute_input": "2022-04-20T19:53:27.078430Z",
     "iopub.status.busy": "2022-04-20T19:53:27.077798Z",
     "iopub.status.idle": "2022-04-20T19:53:27.085594Z",
     "shell.execute_reply": "2022-04-20T19:53:27.084803Z"
    },
    "papermill": {
     "duration": 0.031514,
     "end_time": "2022-04-20T19:53:27.087821",
     "exception": false,
     "start_time": "2022-04-20T19:53:27.056307",
     "status": "completed"
    },
    "tags": []
   },
   "outputs": [
    {
     "name": "stdout",
     "output_type": "stream",
     "text": [
      "288\n",
      "13808\n"
     ]
    }
   ],
   "source": [
    "print(len(dataset_1))\n",
    "print(len(dataset_2))\n",
    "\n",
    "val_1 = random.sample(dataset_1, 25)\n",
    "val_2 = random.sample(dataset_2, 25)\n",
    "\n",
    "for i in range(25):\n",
    "    val_1[i]=[val_1[i],1]\n",
    "    \n",
    "for i in range(25):\n",
    "    val_2[i]=[val_2[i],2]\n",
    "    \n",
    "validation=val_1+val_2\n",
    "\n",
    "np.random.shuffle(validation)\n"
   ]
  },
  {
   "cell_type": "code",
   "execution_count": 10,
   "id": "ecfb9c77",
   "metadata": {
    "execution": {
     "iopub.execute_input": "2022-04-20T19:53:27.131759Z",
     "iopub.status.busy": "2022-04-20T19:53:27.131501Z",
     "iopub.status.idle": "2022-04-20T19:53:27.135087Z",
     "shell.execute_reply": "2022-04-20T19:53:27.134425Z"
    },
    "papermill": {
     "duration": 0.027361,
     "end_time": "2022-04-20T19:53:27.136782",
     "exception": false,
     "start_time": "2022-04-20T19:53:27.109421",
     "status": "completed"
    },
    "tags": []
   },
   "outputs": [],
   "source": [
    "label=[]\n",
    "for ele in validation:\n",
    "    label.append(ele[1])"
   ]
  },
  {
   "cell_type": "code",
   "execution_count": 11,
   "id": "988c2ca9",
   "metadata": {
    "execution": {
     "iopub.execute_input": "2022-04-20T19:53:27.179561Z",
     "iopub.status.busy": "2022-04-20T19:53:27.179369Z",
     "iopub.status.idle": "2022-04-20T19:53:27.184741Z",
     "shell.execute_reply": "2022-04-20T19:53:27.184009Z"
    },
    "papermill": {
     "duration": 0.028841,
     "end_time": "2022-04-20T19:53:27.186474",
     "exception": false,
     "start_time": "2022-04-20T19:53:27.157633",
     "status": "completed"
    },
    "tags": []
   },
   "outputs": [],
   "source": [
    "\n",
    "def mean_dataset(dataset):\n",
    "    count = 0\n",
    "    mean = 0\n",
    "\n",
    "    for image in dataset:\n",
    "        val = np.reshape(image[:,:,:], -1)\n",
    "        img_mean = np.mean(val)\n",
    "        mean=(mean * count + img_mean) /(count + 1)\n",
    "        count+=1\n",
    "    return mean\n",
    "\n",
    "def mean_image(image):\n",
    "    val = np.reshape(image[:,:,0], -1)\n",
    "    return np.mean(val)"
   ]
  },
  {
   "cell_type": "code",
   "execution_count": 12,
   "id": "f9259961",
   "metadata": {
    "execution": {
     "iopub.execute_input": "2022-04-20T19:53:27.229174Z",
     "iopub.status.busy": "2022-04-20T19:53:27.228968Z",
     "iopub.status.idle": "2022-04-20T19:53:28.852748Z",
     "shell.execute_reply": "2022-04-20T19:53:28.851068Z"
    },
    "papermill": {
     "duration": 1.647936,
     "end_time": "2022-04-20T19:53:28.855252",
     "exception": false,
     "start_time": "2022-04-20T19:53:27.207316",
     "status": "completed"
    },
    "tags": []
   },
   "outputs": [
    {
     "name": "stdout",
     "output_type": "stream",
     "text": [
      "76.53685589225923\n",
      "131.92409118945366\n"
     ]
    }
   ],
   "source": [
    "mean_dataset_1=mean_dataset(dataset_1)\n",
    "mean_dataset_2=mean_dataset(dataset_2)\n",
    "\n",
    "print(mean_dataset_1)\n",
    "print(mean_dataset_2)"
   ]
  },
  {
   "cell_type": "code",
   "execution_count": 13,
   "id": "43561d72",
   "metadata": {
    "execution": {
     "iopub.execute_input": "2022-04-20T19:53:28.900283Z",
     "iopub.status.busy": "2022-04-20T19:53:28.900053Z",
     "iopub.status.idle": "2022-04-20T19:53:28.904217Z",
     "shell.execute_reply": "2022-04-20T19:53:28.903451Z"
    },
    "papermill": {
     "duration": 0.028169,
     "end_time": "2022-04-20T19:53:28.905987",
     "exception": false,
     "start_time": "2022-04-20T19:53:28.877818",
     "status": "completed"
    },
    "tags": []
   },
   "outputs": [],
   "source": [
    "def choose_model(test,mean_dataset_1,mean_dataset_2):\n",
    "    mean_current_image=mean_image(test)\n",
    "    if abs(mean_current_image-mean_dataset_1)<abs(mean_current_image-mean_dataset_2):\n",
    "        return 1\n",
    "    else:\n",
    "        return 2"
   ]
  },
  {
   "cell_type": "code",
   "execution_count": 14,
   "id": "eb196211",
   "metadata": {
    "execution": {
     "iopub.execute_input": "2022-04-20T19:53:28.949911Z",
     "iopub.status.busy": "2022-04-20T19:53:28.949726Z",
     "iopub.status.idle": "2022-04-20T19:53:42.568546Z",
     "shell.execute_reply": "2022-04-20T19:53:42.567002Z"
    },
    "papermill": {
     "duration": 13.643854,
     "end_time": "2022-04-20T19:53:42.571308",
     "exception": false,
     "start_time": "2022-04-20T19:53:28.927454",
     "status": "completed"
    },
    "tags": []
   },
   "outputs": [
    {
     "name": "stderr",
     "output_type": "stream",
     "text": [
      "2022-04-20 19:53:29.045253: I tensorflow/stream_executor/cuda/cuda_gpu_executor.cc:937] successful NUMA node read from SysFS had negative value (-1), but there must be at least one NUMA node, so returning NUMA node zero\n",
      "2022-04-20 19:53:29.145318: I tensorflow/stream_executor/cuda/cuda_gpu_executor.cc:937] successful NUMA node read from SysFS had negative value (-1), but there must be at least one NUMA node, so returning NUMA node zero\n",
      "2022-04-20 19:53:29.146209: I tensorflow/stream_executor/cuda/cuda_gpu_executor.cc:937] successful NUMA node read from SysFS had negative value (-1), but there must be at least one NUMA node, so returning NUMA node zero\n",
      "2022-04-20 19:53:29.147857: I tensorflow/core/platform/cpu_feature_guard.cc:142] This TensorFlow binary is optimized with oneAPI Deep Neural Network Library (oneDNN) to use the following CPU instructions in performance-critical operations:  AVX2 AVX512F FMA\n",
      "To enable them in other operations, rebuild TensorFlow with the appropriate compiler flags.\n",
      "2022-04-20 19:53:29.148197: I tensorflow/stream_executor/cuda/cuda_gpu_executor.cc:937] successful NUMA node read from SysFS had negative value (-1), but there must be at least one NUMA node, so returning NUMA node zero\n",
      "2022-04-20 19:53:29.148897: I tensorflow/stream_executor/cuda/cuda_gpu_executor.cc:937] successful NUMA node read from SysFS had negative value (-1), but there must be at least one NUMA node, so returning NUMA node zero\n",
      "2022-04-20 19:53:29.149619: I tensorflow/stream_executor/cuda/cuda_gpu_executor.cc:937] successful NUMA node read from SysFS had negative value (-1), but there must be at least one NUMA node, so returning NUMA node zero\n",
      "2022-04-20 19:53:30.901580: I tensorflow/stream_executor/cuda/cuda_gpu_executor.cc:937] successful NUMA node read from SysFS had negative value (-1), but there must be at least one NUMA node, so returning NUMA node zero\n",
      "2022-04-20 19:53:30.902470: I tensorflow/stream_executor/cuda/cuda_gpu_executor.cc:937] successful NUMA node read from SysFS had negative value (-1), but there must be at least one NUMA node, so returning NUMA node zero\n",
      "2022-04-20 19:53:30.903114: I tensorflow/stream_executor/cuda/cuda_gpu_executor.cc:937] successful NUMA node read from SysFS had negative value (-1), but there must be at least one NUMA node, so returning NUMA node zero\n",
      "2022-04-20 19:53:30.904499: I tensorflow/core/common_runtime/gpu/gpu_device.cc:1510] Created device /job:localhost/replica:0/task:0/device:GPU:0 with 15403 MB memory:  -> device: 0, name: Tesla P100-PCIE-16GB, pci bus id: 0000:00:04.0, compute capability: 6.0\n"
     ]
    }
   ],
   "source": [
    "model_1 = keras.models.load_model('../input/dataset-models/models/model_I.h5')\n",
    "model_2 = keras.models.load_model('../input/dataset-models/models/model_II.h5')"
   ]
  },
  {
   "cell_type": "code",
   "execution_count": 15,
   "id": "7ed6a4a6",
   "metadata": {
    "execution": {
     "iopub.execute_input": "2022-04-20T19:53:42.618643Z",
     "iopub.status.busy": "2022-04-20T19:53:42.618214Z",
     "iopub.status.idle": "2022-04-20T19:53:42.625612Z",
     "shell.execute_reply": "2022-04-20T19:53:42.625005Z"
    },
    "papermill": {
     "duration": 0.032962,
     "end_time": "2022-04-20T19:53:42.627292",
     "exception": false,
     "start_time": "2022-04-20T19:53:42.594330",
     "status": "completed"
    },
    "tags": []
   },
   "outputs": [],
   "source": [
    "def run_model(model_1,model_2,test,pred):\n",
    "    \n",
    "    test=test.reshape((-1,224,224,3))\n",
    "    if choose_model(test,mean_dataset_1,mean_dataset_2)==1:\n",
    "        pred.append(1)\n",
    "        print('Using Model_1')\n",
    "        res=(int(model_1.predict(test)))\n",
    "        if res==0:\n",
    "            print('Covid')\n",
    "        else:\n",
    "            print('Normal')\n",
    "    else:\n",
    "        pred.append(2)\n",
    "        print('Using Model_2')\n",
    "        res=(np.argmax(model_2.predict(test)))\n",
    "        if res==0:\n",
    "            print('Covid')\n",
    "        else:\n",
    "            print('Normal')"
   ]
  },
  {
   "cell_type": "code",
   "execution_count": 16,
   "id": "6043b0ad",
   "metadata": {
    "execution": {
     "iopub.execute_input": "2022-04-20T19:53:42.672227Z",
     "iopub.status.busy": "2022-04-20T19:53:42.672029Z",
     "iopub.status.idle": "2022-04-20T19:53:42.676489Z",
     "shell.execute_reply": "2022-04-20T19:53:42.675863Z"
    },
    "papermill": {
     "duration": 0.029078,
     "end_time": "2022-04-20T19:53:42.678171",
     "exception": false,
     "start_time": "2022-04-20T19:53:42.649093",
     "status": "completed"
    },
    "tags": []
   },
   "outputs": [
    {
     "data": {
      "text/plain": [
       "numpy.ndarray"
      ]
     },
     "execution_count": 16,
     "metadata": {},
     "output_type": "execute_result"
    }
   ],
   "source": [
    "type(validation[1][0])"
   ]
  },
  {
   "cell_type": "code",
   "execution_count": 17,
   "id": "b04bec6a",
   "metadata": {
    "execution": {
     "iopub.execute_input": "2022-04-20T19:53:42.723367Z",
     "iopub.status.busy": "2022-04-20T19:53:42.722904Z",
     "iopub.status.idle": "2022-04-20T19:53:54.095363Z",
     "shell.execute_reply": "2022-04-20T19:53:54.094561Z"
    },
    "papermill": {
     "duration": 11.397446,
     "end_time": "2022-04-20T19:53:54.097490",
     "exception": false,
     "start_time": "2022-04-20T19:53:42.700044",
     "status": "completed"
    },
    "tags": []
   },
   "outputs": [
    {
     "name": "stdout",
     "output_type": "stream",
     "text": [
      "Using Model_1\n"
     ]
    },
    {
     "name": "stderr",
     "output_type": "stream",
     "text": [
      "2022-04-20 19:53:42.790576: I tensorflow/compiler/mlir/mlir_graph_optimization_pass.cc:185] None of the MLIR Optimization Passes are enabled (registered 2)\n",
      "2022-04-20 19:53:43.643697: I tensorflow/stream_executor/cuda/cuda_dnn.cc:369] Loaded cuDNN version 8005\n"
     ]
    },
    {
     "name": "stdout",
     "output_type": "stream",
     "text": [
      "Covid\n",
      "Using Model_1\n",
      "Covid\n",
      "Using Model_1\n",
      "Covid\n",
      "Using Model_2\n",
      "Normal\n",
      "Using Model_1\n",
      "Covid\n",
      "Using Model_1\n",
      "Covid\n",
      "Using Model_1\n",
      "Covid\n",
      "Using Model_1\n",
      "Covid\n",
      "Using Model_1\n",
      "Covid\n",
      "Using Model_1\n",
      "Covid\n",
      "Using Model_1\n",
      "Covid\n",
      "Using Model_1\n",
      "Covid\n",
      "Using Model_1\n",
      "Covid\n",
      "Using Model_1\n",
      "Covid\n",
      "Using Model_1\n",
      "Covid\n",
      "Using Model_1\n",
      "Covid\n",
      "Using Model_1\n",
      "Covid\n",
      "Using Model_2\n",
      "Normal\n",
      "Using Model_1\n",
      "Covid\n",
      "Using Model_1\n",
      "Normal\n",
      "Using Model_1\n",
      "Normal\n",
      "Using Model_1\n",
      "Covid\n",
      "Using Model_1\n",
      "Covid\n",
      "Using Model_1\n",
      "Covid\n",
      "Using Model_1\n",
      "Covid\n",
      "Using Model_1\n",
      "Covid\n",
      "Using Model_2\n",
      "Normal\n",
      "Using Model_1\n",
      "Covid\n",
      "Using Model_1\n",
      "Normal\n",
      "Using Model_1\n",
      "Covid\n",
      "Using Model_2\n",
      "Normal\n",
      "Using Model_1\n",
      "Covid\n",
      "Using Model_1\n",
      "Normal\n",
      "Using Model_1\n",
      "Normal\n",
      "Using Model_1\n",
      "Covid\n",
      "Using Model_1\n",
      "Covid\n",
      "Using Model_1\n",
      "Covid\n",
      "Using Model_1\n",
      "Normal\n",
      "Using Model_1\n",
      "Covid\n",
      "Using Model_1\n",
      "Covid\n",
      "Using Model_2\n",
      "Normal\n",
      "Using Model_1\n",
      "Covid\n",
      "Using Model_1\n",
      "Covid\n",
      "Using Model_1\n",
      "Covid\n",
      "Using Model_1\n",
      "Covid\n",
      "Using Model_1\n",
      "Covid\n",
      "Using Model_2\n",
      "Normal\n",
      "Using Model_1\n",
      "Covid\n",
      "Using Model_1\n",
      "Covid\n",
      "Using Model_2\n",
      "Normal\n"
     ]
    },
    {
     "data": {
      "text/plain": [
       "0.64"
      ]
     },
     "execution_count": 17,
     "metadata": {},
     "output_type": "execute_result"
    }
   ],
   "source": [
    "pred=[]\n",
    "for ele in validation:\n",
    "    run_model(model_1,model_2,ele[0],pred)\n",
    "    \n",
    "    \n",
    "from sklearn.metrics import accuracy_score\n",
    "accuracy_score(label, pred)"
   ]
  },
  {
   "cell_type": "code",
   "execution_count": null,
   "id": "ab02771f",
   "metadata": {
    "execution": {
     "iopub.execute_input": "2022-04-20T18:04:00.246993Z",
     "iopub.status.busy": "2022-04-20T18:04:00.246457Z",
     "iopub.status.idle": "2022-04-20T18:04:00.320808Z",
     "shell.execute_reply": "2022-04-20T18:04:00.320141Z",
     "shell.execute_reply.started": "2022-04-20T18:04:00.246957Z"
    },
    "papermill": {
     "duration": 0.026878,
     "end_time": "2022-04-20T19:53:54.151404",
     "exception": false,
     "start_time": "2022-04-20T19:53:54.124526",
     "status": "completed"
    },
    "tags": []
   },
   "outputs": [],
   "source": []
  },
  {
   "cell_type": "code",
   "execution_count": null,
   "id": "510c56f5",
   "metadata": {
    "papermill": {
     "duration": 0.027079,
     "end_time": "2022-04-20T19:53:54.205352",
     "exception": false,
     "start_time": "2022-04-20T19:53:54.178273",
     "status": "completed"
    },
    "tags": []
   },
   "outputs": [],
   "source": []
  }
 ],
 "metadata": {
  "kernelspec": {
   "display_name": "Python 3",
   "language": "python",
   "name": "python3"
  },
  "language_info": {
   "codemirror_mode": {
    "name": "ipython",
    "version": 3
   },
   "file_extension": ".py",
   "mimetype": "text/x-python",
   "name": "python",
   "nbconvert_exporter": "python",
   "pygments_lexer": "ipython3",
   "version": "3.7.12"
  },
  "papermill": {
   "default_parameters": {},
   "duration": 211.475373,
   "end_time": "2022-04-20T19:53:57.206741",
   "environment_variables": {},
   "exception": null,
   "input_path": "__notebook__.ipynb",
   "output_path": "__notebook__.ipynb",
   "parameters": {},
   "start_time": "2022-04-20T19:50:25.731368",
   "version": "2.3.4"
  }
 },
 "nbformat": 4,
 "nbformat_minor": 5
}
